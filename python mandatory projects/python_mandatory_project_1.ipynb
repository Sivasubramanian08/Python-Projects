{
  "nbformat": 4,
  "nbformat_minor": 0,
  "metadata": {
    "colab": {
      "provenance": []
    },
    "kernelspec": {
      "name": "python3",
      "display_name": "Python 3"
    },
    "language_info": {
      "name": "python"
    }
  },
  "cells": [
    {
      "cell_type": "markdown",
      "source": [
        "**Q1. you are working in a bank and you have been given two lists of employees who have worked in 2021. employee's name in list 1 are ramesh, suresh, mahesh, ali, jacob and saritha. list 2 contains the names of ali, mukesh, mahesh, jacob, sai, sarita. please write a program which helps to idetify people who are common in both the lists. please dont use any built-in functions**"
      ],
      "metadata": {
        "id": "_T6Yu5vPcur8"
      }
    },
    {
      "cell_type": "code",
      "execution_count": null,
      "metadata": {
        "id": "HlJCakVceQEe",
        "colab": {
          "base_uri": "https://localhost:8080/"
        },
        "outputId": "5e7047e2-a42e-419a-eaa2-f82076b7bac6"
      },
      "outputs": [
        {
          "output_type": "stream",
          "name": "stdout",
          "text": [
            "{'jacob', 'mahesh', 'ali', 'saritha'}\n"
          ]
        }
      ],
      "source": [
        "# Solution\n",
        "\n",
        "list1 = [\"ramesh\", \"suresh\", \"mahesh\", \"ali\", \"jacob\", \"saritha\"]\n",
        "list2 = [\"ali\", \"mukesh\", \"mahesh\", \"sai\", \"jacob\", \"saritha\"]\n",
        "\n",
        "# converting list to set\n",
        "a = set(list1)       \n",
        "b = set(list2)\n",
        "\n",
        "# doing bitwise AND operation in both list to find whether element or string in one list equals with another list\n",
        "#if it equals it returns those as a result\n",
        "\n",
        "print(a & b)"
      ]
    },
    {
      "cell_type": "markdown",
      "source": [
        "**Q2 while entering data, someone entered a few names as a common string \"ramesh suresh mohit\". please write a program which seperates all the names and convert them into a list. Once converted into a list, write a program to add their ages\n",
        "ramesh : 25 suresh : 22 mohit : 26**"
      ],
      "metadata": {
        "id": "ddHLOw09c3uB"
      }
    },
    {
      "cell_type": "code",
      "source": [
        "# Solution\n",
        "\n",
        "a = \"Ramesh Suresh Mohit\"\n",
        "b = list(a.split())\n",
        "b = ['Ramesh', 25, 'Suresh', 22, 'Mohit', 26]\n",
        "dic = {b[i] :b[i+1] for i in range(0, len(b), 2)}  # using list comprehension converting list to dictionary \n",
        "for i in dic.items():\n",
        "  print(i)"
      ],
      "metadata": {
        "id": "UIv9gObWiLyD",
        "colab": {
          "base_uri": "https://localhost:8080/"
        },
        "outputId": "a492cd00-5825-4373-c900-ccd03307c255"
      },
      "execution_count": 2,
      "outputs": [
        {
          "output_type": "stream",
          "name": "stdout",
          "text": [
            "('Ramesh', 25)\n",
            "('Suresh', 22)\n",
            "('Mohit', 26)\n"
          ]
        }
      ]
    },
    {
      "cell_type": "code",
      "source": [
        "# another method of solving problem\n",
        "\n",
        "a = \"Ramesh Suresh Mohit\"\n",
        "b = list(a.split())\n",
        "b.insert(1, 25)\n",
        "b.insert(3, 22)\n",
        "b.insert(5, 26)\n",
        "print(b)"
      ],
      "metadata": {
        "colab": {
          "base_uri": "https://localhost:8080/"
        },
        "id": "oEvq2Dd1Cnff",
        "outputId": "70834da1-d392-4d65-a888-af93492507ac"
      },
      "execution_count": 3,
      "outputs": [
        {
          "output_type": "stream",
          "name": "stdout",
          "text": [
            "['Ramesh', 25, 'Suresh', 22, 'Mohit', 26]\n"
          ]
        }
      ]
    },
    {
      "cell_type": "markdown",
      "source": [
        "**Q3 : A few students from a university have taken 3 exams\n",
        "name = sam, jacy, tom, steve\n",
        "Python : 25, 26, 29, 28\n",
        "statistics : 23, 21, 19, 25\n",
        "SQL : 29, 27, 28, 25**\n",
        "**write a program which calculates mean values of all 3 tests and print highest mean addition and other functions allowed please also report who scored highest mark in python using programming construct**"
      ],
      "metadata": {
        "id": "uC9yxn3vzVaD"
      }
    },
    {
      "cell_type": "code",
      "source": [
        "# Solution\n",
        "\n",
        "name = [\"sam\", \"jacy\", \"Tom\", \"steve\"]\n",
        "p = [25, 26, 29, 28]\n",
        "s = [23, 21, 19, 25]\n",
        "sq = [29, 27, 28, 25]\n",
        "\n",
        "# finding the mean for python subject\n",
        "py = sum(p) / len(p)\n",
        "print(py)\n",
        "\n",
        "# finding the mean for satistics subject\n",
        "stat = sum(s) / len(s)\n",
        "print(stat)\n",
        "\n",
        "# finding the mean for SQL subject\n",
        "sql = sum(sq) / len(sq)\n",
        "print(sql)\n",
        "\n",
        "\n",
        "# finding the highest mean value of all 3 subjects\n",
        "a = 27.0\n",
        "b = 22.0\n",
        "c = 27.25\n",
        "\n",
        "if a > b and a > c:\n",
        "  print(\"The higher mean vaue is : \", a)\n",
        "elif b > a and b > c:\n",
        "  print(\"The higher mean vaue is : \", b)\n",
        "elif c > a and c > b:\n",
        "  print(\"The higher mean vaue is : \", c)\n",
        "else:\n",
        "  print(\"None\")\n",
        "\n",
        "# finding who scored higher marks in python subject using function\n",
        "# function definition\n",
        "\n",
        "name = [\"sam\", \"jacy\", \"Tom\", \"steve\"]\n",
        "p = [25, 26, 29, 28]\n",
        "\n",
        "def func_marks():\n",
        "  max = 0\n",
        "  for i in p:\n",
        "    if i > max:\n",
        "      max = i\n",
        "  print(max)"
      ],
      "metadata": {
        "colab": {
          "base_uri": "https://localhost:8080/"
        },
        "id": "GK85iYcf0ODY",
        "outputId": "e4cd4a71-4f26-4099-f91c-172fc61348ea"
      },
      "execution_count": 14,
      "outputs": [
        {
          "output_type": "stream",
          "name": "stdout",
          "text": [
            "27.0\n",
            "22.0\n",
            "27.25\n",
            "The higher mean vaue is :  27.25\n"
          ]
        }
      ]
    },
    {
      "cell_type": "code",
      "source": [
        "# here calling the function to generate result\n",
        "\n",
        "func_marks()"
      ],
      "metadata": {
        "colab": {
          "base_uri": "https://localhost:8080/"
        },
        "id": "vrn8il5DWz0P",
        "outputId": "46e091ef-4a6f-4113-f646-be2a388156fc"
      },
      "execution_count": 15,
      "outputs": [
        {
          "output_type": "stream",
          "name": "stdout",
          "text": [
            "29\n"
          ]
        }
      ]
    },
    {
      "cell_type": "markdown",
      "source": [
        "**Q4 : You are working in a medical store. A patient came to your store and asked to buy 2 strips of paracetamol, 3 strips of azithromycin, and 5 strips of Vitamic C. One strip of paracetamol costs Rs. 35, one strip of azithromycin costs Rs. 49, and one strip of Vitamic C costs around Rs. 33. Patient gives you Rs. 2000. please tell us what is the total cost of each medicine, total costs of all medicine and how much money refunded to the patient**"
      ],
      "metadata": {
        "id": "zIsh6qTVIrq7"
      }
    },
    {
      "cell_type": "code",
      "source": [
        "a = [2, 3, 5]\n",
        "b = [35, 49, 33]\n",
        "c = []\n",
        "grand_total = 2000\n",
        "\n",
        "# finding the cost of all medicine and saving it in another list\n",
        "\n",
        "for i in range(0, len(a)):\n",
        "  c.append(a[i] * b[i])\n",
        "print(c)\n",
        "\n",
        "# first finding total cost of each medicine\n",
        "\n",
        "sum0 = 0\n",
        "for i in b:\n",
        "  sum0 += i\n",
        "print(\"the total cost of each medicine :\", sum0)\n",
        "\n",
        "# second finding total cost of all medicine\n",
        "\n",
        "sum1 = 0\n",
        "for i in c:\n",
        "  sum1 += i\n",
        "print(\"the total cost of all medicine :\", sum1)\n",
        "\n",
        "\n",
        "# last printing the balance amount refunded to the patient   \n",
        "\n",
        "print(\"the money refunded to the patient : \", grand_total - sum1)"
      ],
      "metadata": {
        "colab": {
          "base_uri": "https://localhost:8080/"
        },
        "id": "50L9Mxv2Jvdw",
        "outputId": "66a7bcd5-2400-483c-f3d9-e192a56841ca"
      },
      "execution_count": 16,
      "outputs": [
        {
          "output_type": "stream",
          "name": "stdout",
          "text": [
            "[70, 147, 165]\n",
            "the total cost of each medicine : 117\n",
            "the total cost of all medicine : 382\n",
            "the money refunded to the patient :  1618\n"
          ]
        }
      ]
    },
    {
      "cell_type": "markdown",
      "source": [
        "**Q5 : Accept a sentence as input and find the number of vowels in it. Assume that the sentence has no punctuation marks. For example i am learning python contains 6 vowels. This function should be applicable for all other different sentences.:**"
      ],
      "metadata": {
        "id": "dmZ53cXefdKR"
      }
    },
    {
      "cell_type": "code",
      "source": [
        "# this function checks whether the entered string contains vowels or not\n",
        "# function_definition\n",
        "\n",
        "def func_vowels():\n",
        "  count = 0\n",
        "  for i in a:\n",
        "    if i in \"aeiou\":\n",
        "      count += 1\n",
        "  print(\"the sentence contains\", count , \"vowels\")"
      ],
      "metadata": {
        "id": "U6SJslFlhT53"
      },
      "execution_count": 17,
      "outputs": []
    },
    {
      "cell_type": "code",
      "source": [
        "# here in this code we calling that function to generate output \n",
        "\n",
        "a = input(\"enter string : \")\n",
        "func_vowels()"
      ],
      "metadata": {
        "colab": {
          "base_uri": "https://localhost:8080/"
        },
        "id": "eZVo4Lagky5U",
        "outputId": "c365156c-1588-4170-a260-dff49fe2a8e2"
      },
      "execution_count": 18,
      "outputs": [
        {
          "output_type": "stream",
          "name": "stdout",
          "text": [
            "enter string : i am learning python\n",
            "the sentence contains 6 vowels\n"
          ]
        }
      ]
    },
    {
      "cell_type": "markdown",
      "source": [
        "**Q6 : You have been appointed by th election commission to create a website.\n",
        "Your first task is to work on a program which tells candidate if they are eligible for voting or not. if they are eligible your output must be \"congrats! you are eligible\". otherwise it should return \"return after x number of years\". Eligibility criteria for voting is 18 years.**"
      ],
      "metadata": {
        "id": "yjkTZP6kdsFI"
      }
    },
    {
      "cell_type": "code",
      "source": [
        "age = int(input(\"enter your age : \"))\n",
        "if age >= 18:                                 # using if condition to check whether person is above or equal to 18 years\n",
        "  print(\"Congrats ! you are eligible\")\n",
        "else:\n",
        "  print(\"return after\", 18-age, \"years\")"
      ],
      "metadata": {
        "colab": {
          "base_uri": "https://localhost:8080/"
        },
        "id": "94BvpEghYu4s",
        "outputId": "cfe509fd-e567-4274-eb79-90dcdc8287de"
      },
      "execution_count": 19,
      "outputs": [
        {
          "output_type": "stream",
          "name": "stdout",
          "text": [
            "enter your age : 15\n",
            "return after 3 years\n"
          ]
        }
      ]
    },
    {
      "cell_type": "code",
      "source": [],
      "metadata": {
        "id": "8x_kOTqXdguq"
      },
      "execution_count": null,
      "outputs": []
    }
  ]
}